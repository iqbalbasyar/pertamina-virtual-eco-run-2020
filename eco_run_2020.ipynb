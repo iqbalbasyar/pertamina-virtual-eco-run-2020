{
 "cells": [
  {
   "cell_type": "markdown",
   "metadata": {},
   "source": [
    "# Analisis Tweet pada campaign PertaminaVirtualEcoRun"
   ]
  },
  {
   "cell_type": "markdown",
   "metadata": {},
   "source": [
    "![](https://www.pertaminaecorun.com/images/virtual/press.png)"
   ]
  },
  {
   "cell_type": "markdown",
   "metadata": {},
   "source": [
    "**Tentang data**"
   ]
  },
  {
   "cell_type": "markdown",
   "metadata": {},
   "source": [
    "Data terdiri dari 4 file, yaitu : \n",
    "1. **tweet_eco_run.csv** \\\n",
    "    Data ini merupakan sampel tweet yang menyertakan tagar #pertaminavirtualecorun2020 sejak 13 Desember 2020 - 16 Desember 2020. \n",
    "    \n",
    "    |    | Kolom      | Keterangan                                                                                     |\n",
    "    |---:|:-----------|:-----------------------------------------------------------------------------------------------|\n",
    "    |  0 | text       | Tweet                                                                                          |\n",
    "    |  1 | id         | Tweet Id                                                                                       |\n",
    "    |  2 | userid     | User Id Twitter                                                                                |\n",
    "    |  3 | username   | Username Twitter                                                                               |\n",
    "    |  4 | created_at | Tanggal pembuatan tweet                                                                        |\n",
    "    |  5 | likes      | jumlah likes pada tweet yang bersangkutan                                                      |\n",
    "    |  6 | retweets   | Jumlah retweet pada tweet yang bersangkutan                                                    |\n",
    "    |  7 | isquote    | True jika tweet yang bersangkutan merupakan quote dari tweet lain                              |\n",
    "    |  8 | reply_to   | Tweet id dari tweet lain jika tweet yang bersangkutan merupakah reply. Jika tidak, berisi None |\n",
    "    |  9 | geo        | Informasi geografis pada tweet jika pengguna menyertakan. Jika tidak, berisi None              |\n",
    "    | 10 | place      | Lokasi tweet jika pengguna menyertakan. Jika tidak, berisi None                                |\n",
    "    \n",
    "2. **account_score.csv** \\\n",
    "    Data ini adalah gabungan informasi akun user pada `tweet_eco_run.csv` dan skor bot aku yang bersangkutan meelalui [botometer](https://botometer.osome.iu.edu/)\\\n",
    "    |    | Kolom         | Keterangan                                                                         |\n",
    "    |---:|:--------------|:-----------------------------------------------------------------------------------|\n",
    "    |  0 | id            | User ID Twitter                                                                    |\n",
    "    |  1 | screen_name   | Username Twitter                                                                   |\n",
    "    |  2 | created_at    | Tanggal pembuatan akun                                                             |\n",
    "    |  3 | n_follow      | Jumlah user yang difollow                                                          |\n",
    "    |  4 | n_follower    | Jumlah follower                                                                    |\n",
    "    |  5 | n_tweets      | Jumlah tweet                                                                       |\n",
    "    |  6 | verified      | True jika akun twitter tersebut terverifikasi                                      |\n",
    "    |  7 | astroturf     | Probability user yang mengandung konten politik atau mengikuti akun bot.           |\n",
    "    |  8 | fake_follower | Probability user memiliki follower bot                                             |\n",
    "    |  9 | financial     | Probability user memiliki konten finansial                                         |\n",
    "    | 10 | other         | Probability akun bot berdasarkan metric lain seperti feedback, anotasi manual, dsb |\n",
    "    | 11 | overall       | Skor Probability akun bot menggunakan machine learning                             |\n",
    "    | 12 | self_declared | Probability akun terdaftar sebagai bot pada botwiki.org                            |\n",
    "    | 13 | spammer       | Probability akun dinyatakan sebagai spammer                                        |\n",
    "\n",
    "3. **following.json** \\\n",
    "    Dictionary user id yang di follow setiap akun\n",
    "\n",
    "4. **followers.json** \\\n",
    "    Dictionary user id follower setiap akun\n"
   ]
  },
  {
   "cell_type": "code",
   "execution_count": 1,
   "metadata": {},
   "outputs": [],
   "source": [
    "import pandas as pd \n",
    "import json"
   ]
  },
  {
   "cell_type": "code",
   "execution_count": 2,
   "metadata": {},
   "outputs": [],
   "source": [
    "tweets = pd.read_csv('data/tweet_eco_run.csv')\n",
    "account_score = pd.read_csv('data/account_score.csv')\n",
    "\n",
    "with open('data/following.json', 'r') as f:\n",
    "    following = json.load(f)\n",
    "\n",
    "with open('data/followers.json', 'r') as f:\n",
    "    followers = json.load(f)\n"
   ]
  },
  {
   "cell_type": "markdown",
   "metadata": {},
   "source": [
    "Komprehensi : \n",
    "1. Membaca data \n",
    "2. Memperbaiki tipe data\n",
    "3. Melakukan analisis statistik ringkas \n",
    "4. Melakukan subsetting/indexing"
   ]
  },
  {
   "cell_type": "markdown",
   "metadata": {},
   "source": [
    "___"
   ]
  },
  {
   "cell_type": "markdown",
   "metadata": {},
   "source": [
    "# Dive Deeper (est: 25 mins)\n",
    "Secara berkelompok, lakukanlah analisis dengan menjawab beberapa pertanyaan berikut : \n",
    "1. **siapakah username dari tweet yang memiliki interaksi (likes+retweets) diatas rata-rata?**\n",
    "2. **berapa rata-rata usia akun twitter dari orang-orang yang terlibat dalam tweet tersebut?**\n",
    "3. **berapa rata-rata perbandingan following vs followers orang-orang yang terlibat dalam tweet tersebut**? \n",
    "4. **menggunakan skor overall dari seluruh akun, siapakah 10 akun yang paling dicurigai sebagai akun buzzer** ? "
   ]
  }
 ],
 "metadata": {
  "kernelspec": {
   "display_name": "Tensorflow",
   "language": "python",
   "name": "tf"
  },
  "language_info": {
   "codemirror_mode": {
    "name": "ipython",
    "version": 3
   },
   "file_extension": ".py",
   "mimetype": "text/x-python",
   "name": "python",
   "nbconvert_exporter": "python",
   "pygments_lexer": "ipython3",
   "version": "3.8.3"
  }
 },
 "nbformat": 4,
 "nbformat_minor": 4
}
